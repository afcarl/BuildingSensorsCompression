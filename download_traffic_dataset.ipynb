{
 "cells": [
  {
   "cell_type": "code",
   "execution_count": 2,
   "metadata": {
    "collapsed": true
   },
   "outputs": [],
   "source": [
    "%matplotlib inline\n",
    "from numpy import *\n",
    "import matplotlib.pyplot as plt\n",
    "import psycopg2\n",
    "import sys\n",
    "from pprint import pprint              \n",
    "def Connect2Postgres(sql):\n",
    "\t#Define our connection string\n",
    "\tconn_string = \"host='delphidata.ucsd.edu' dbname='delphibetadb' user='plato' password='m32mtds3(1_mq+'\"\n",
    "\t# get a connection, if a connect cannot be made an exception will be raised here\n",
    "\tconn = psycopg2.connect(conn_string)\n",
    "\t# conn.cursor will return a cursor object, you can use this cursor to perform queries\n",
    "\tcursor = conn.cursor()\n",
    "\tcursor.execute(sql)\n",
    "\t# retrieve the records from the database\n",
    "\trecords = cursor.fetchall()\n",
    "\t# print out the records using pretty print\n",
    "\t# note that the NAMES of the columns are not shown, instead just indexes.\n",
    "\t# for most people this isn't very useful so we'll show you how to return\n",
    "\t# columns as a dictionary (hash) in the next example.\n",
    "\treturn records \n"
   ]
  },
  {
   "cell_type": "code",
   "execution_count": 3,
   "metadata": {
    "collapsed": false
   },
   "outputs": [
    {
     "name": "stdout",
     "output_type": "stream",
     "text": [
      "[(1100340L,), (1118552L,), (1116574L,), (1111561L,), (1108507L,), (1125265L,), (1122645L,), (1108509L,), (1108688L,), (1118957L,), (1100706L,), (1122942L,), (1121663L,), (1108649L,), (1118707L,), (1113139L,), (1116023L,), (1119637L,), (1108406L,), (1108342L,), (1108627L,), (1118060L,), (1119470L,), (1119021L,), (1123072L,), (1108405L,), (1108501L,), (1122479L,), (1113266L,), (1114211L,), (1108590L,), (1108650L,), (1117724L,), (1100384L,), (1121158L,), (1115794L,), (1108717L,), (1111548L,), (1123300L,), (1108297L,), (1108707L,), (1122763L,), (1108423L,), (1108581L,), (1121657L,), (1118020L,), (1108496L,), (1111527L,), (1100549L,), (1116690L,), (1100868L,), (1120377L,), (1108540L,), (1121728L,), (1116449L,), (1122575L,), (1125892L,), (1113402L,), (1122734L,), (1120272L,), (1121044L,), (1100387L,), (1116399L,), (1116443L,), (1113852L,), (1123040L,), (1108480L,), (1100326L,), (1115763L,), (1118544L,), (1108465L,), (1120724L,), (1121281L,), (1115432L,), (1119990L,), (1120415L,), (1108292L,), (1108699L,), (1108737L,), (1108726L,), (1120300L,), (1108424L,), (1118775L,), (1116015L,), (1120067L,), (1108394L,), (1123331L,), (1115811L,), (1108388L,), (1108772L,), (1113803L,), (1116049L,), (1122948L,), (1108357L,), (1120509L,), (1114792L,), (1115632L,), (1122584L,), (1114318L,), (1113514L,)]\n"
     ]
    }
   ],
   "source": [
    "stations=Connect2Postgres(\"select distinct station from caltrans_1_hour limit 100;\")\n",
    "print stations"
   ]
  },
  {
   "cell_type": "code",
   "execution_count": 4,
   "metadata": {
    "collapsed": false,
    "scrolled": true
   },
   "outputs": [
    {
     "name": "stdout",
     "output_type": "stream",
     "text": [
      "processing data for station 1100340\n",
      "processing data for station 1118552\n",
      "processing data for station 1116574\n",
      "processing data for station 1111561\n",
      "processing data for station 1108507\n",
      "processing data for station 1125265\n",
      "processing data for station 1122645\n",
      "processing data for station 1108509\n",
      "processing data for station 1108688\n",
      "processing data for station 1118957\n",
      "processing data for station 1100706\n",
      "processing data for station 1122942\n",
      "processing data for station 1121663\n",
      "processing data for station 1108649\n",
      "processing data for station 1118707\n",
      "processing data for station 1113139\n",
      "processing data for station 1116023\n",
      "processing data for station 1119637\n",
      "processing data for station 1108406\n",
      "processing data for station 1108342\n",
      "processing data for station 1108627\n",
      "processing data for station 1118060\n",
      "processing data for station 1119470\n",
      "processing data for station 1119021\n",
      "processing data for station 1123072\n",
      "processing data for station 1108405\n",
      "processing data for station 1108501\n",
      "processing data for station 1122479\n",
      "processing data for station 1113266\n",
      "processing data for station 1114211\n",
      "processing data for station 1108590\n",
      "processing data for station 1108650\n",
      "processing data for station 1117724\n",
      "processing data for station 1100384\n",
      "processing data for station 1121158\n",
      "processing data for station 1115794\n",
      "processing data for station 1108717\n",
      "processing data for station 1111548\n",
      "processing data for station 1123300\n",
      "processing data for station 1108297\n",
      "processing data for station 1108707\n",
      "processing data for station 1122763\n",
      "processing data for station 1108423\n",
      "processing data for station 1108581\n",
      "processing data for station 1121657\n",
      "processing data for station 1118020\n",
      "processing data for station 1108496\n",
      "processing data for station 1111527\n",
      "processing data for station 1100549\n",
      "processing data for station 1116690\n"
     ]
    },
    {
     "ename": "KeyboardInterrupt",
     "evalue": "",
     "output_type": "error",
     "traceback": [
      "\u001b[1;31m---------------------------------------------------------------------------\u001b[0m",
      "\u001b[1;31mKeyboardInterrupt\u001b[0m                         Traceback (most recent call last)",
      "\u001b[1;32m<ipython-input-4-9295dc54c01b>\u001b[0m in \u001b[0;36m<module>\u001b[1;34m()\u001b[0m\n\u001b[0;32m      3\u001b[0m     \u001b[0mpath\u001b[0m\u001b[1;33m=\u001b[0m\u001b[1;34m'/home/chunbin/cblin/dataset/traffic/'\u001b[0m\u001b[1;33m+\u001b[0m\u001b[0mstr\u001b[0m\u001b[1;33m(\u001b[0m\u001b[0mstation\u001b[0m\u001b[1;33m[\u001b[0m\u001b[1;36m0\u001b[0m\u001b[1;33m]\u001b[0m\u001b[1;33m)\u001b[0m\u001b[1;33m+\u001b[0m\u001b[1;34m'.txt'\u001b[0m\u001b[1;33m\u001b[0m\u001b[0m\n\u001b[0;32m      4\u001b[0m     \u001b[1;32mprint\u001b[0m \u001b[1;34m\"processing data for station \"\u001b[0m\u001b[1;33m+\u001b[0m\u001b[0mstr\u001b[0m\u001b[1;33m(\u001b[0m\u001b[0mstation\u001b[0m\u001b[1;33m[\u001b[0m\u001b[1;36m0\u001b[0m\u001b[1;33m]\u001b[0m\u001b[1;33m)\u001b[0m\u001b[1;33m\u001b[0m\u001b[0m\n\u001b[1;32m----> 5\u001b[1;33m     \u001b[0mrecords\u001b[0m\u001b[1;33m=\u001b[0m\u001b[0mConnect2Postgres\u001b[0m\u001b[1;33m(\u001b[0m\u001b[0mSQL\u001b[0m\u001b[1;33m)\u001b[0m\u001b[1;33m\u001b[0m\u001b[0m\n\u001b[0m\u001b[0;32m      6\u001b[0m     \u001b[0moutFile\u001b[0m \u001b[1;33m=\u001b[0m \u001b[0mopen\u001b[0m\u001b[1;33m(\u001b[0m\u001b[0mpath\u001b[0m\u001b[1;33m,\u001b[0m \u001b[1;34m'w'\u001b[0m\u001b[1;33m)\u001b[0m\u001b[1;33m\u001b[0m\u001b[0m\n\u001b[0;32m      7\u001b[0m     \u001b[1;32mfor\u001b[0m \u001b[0mtime\u001b[0m\u001b[1;33m,\u001b[0m\u001b[0mtotalflow\u001b[0m \u001b[1;32min\u001b[0m \u001b[0mrecords\u001b[0m\u001b[1;33m:\u001b[0m\u001b[1;33m\u001b[0m\u001b[0m\n",
      "\u001b[1;32m<ipython-input-2-1622dcb32e86>\u001b[0m in \u001b[0;36mConnect2Postgres\u001b[1;34m(sql)\u001b[0m\n\u001b[0;32m     12\u001b[0m         \u001b[1;31m# conn.cursor will return a cursor object, you can use this cursor to perform queries\u001b[0m\u001b[1;33m\u001b[0m\u001b[1;33m\u001b[0m\u001b[0m\n\u001b[0;32m     13\u001b[0m         \u001b[0mcursor\u001b[0m \u001b[1;33m=\u001b[0m \u001b[0mconn\u001b[0m\u001b[1;33m.\u001b[0m\u001b[0mcursor\u001b[0m\u001b[1;33m(\u001b[0m\u001b[1;33m)\u001b[0m\u001b[1;33m\u001b[0m\u001b[0m\n\u001b[1;32m---> 14\u001b[1;33m         \u001b[0mcursor\u001b[0m\u001b[1;33m.\u001b[0m\u001b[0mexecute\u001b[0m\u001b[1;33m(\u001b[0m\u001b[0msql\u001b[0m\u001b[1;33m)\u001b[0m\u001b[1;33m\u001b[0m\u001b[0m\n\u001b[0m\u001b[0;32m     15\u001b[0m         \u001b[1;31m# retrieve the records from the database\u001b[0m\u001b[1;33m\u001b[0m\u001b[1;33m\u001b[0m\u001b[0m\n\u001b[0;32m     16\u001b[0m         \u001b[0mrecords\u001b[0m \u001b[1;33m=\u001b[0m \u001b[0mcursor\u001b[0m\u001b[1;33m.\u001b[0m\u001b[0mfetchall\u001b[0m\u001b[1;33m(\u001b[0m\u001b[1;33m)\u001b[0m\u001b[1;33m\u001b[0m\u001b[0m\n",
      "\u001b[1;32m<string>\u001b[0m in \u001b[0;36m__new__\u001b[1;34m(_cls, name, type_code, display_size, internal_size, precision, scale, null_ok)\u001b[0m\n",
      "\u001b[1;31mKeyboardInterrupt\u001b[0m: "
     ]
    }
   ],
   "source": [
    "for station in stations:\n",
    "    SQL=\"select time,totalflow from caltrans_1_hour where station=\"+str(station[0])+\" limit 24*360;\"\n",
    "    path='/home/chunbin/cblin/dataset/traffic/'+str(station[0])+'.txt'\n",
    "    print \"processing data for station \"+str(station[0])\n",
    "    records=Connect2Postgres(SQL)\n",
    "    outFile = open(path, 'w')\n",
    "    for time,totalflow in records:\n",
    "        outFile.write(str(time)+\"\\t\"+str(totalflow)+\"\\n\")\n",
    "    outFile.close()\n",
    "print \"done\""
   ]
  },
  {
   "cell_type": "code",
   "execution_count": null,
   "metadata": {
    "collapsed": true
   },
   "outputs": [],
   "source": []
  }
 ],
 "metadata": {
  "kernelspec": {
   "display_name": "Python 2",
   "language": "python",
   "name": "python2"
  },
  "language_info": {
   "codemirror_mode": {
    "name": "ipython",
    "version": 2
   },
   "file_extension": ".py",
   "mimetype": "text/x-python",
   "name": "python",
   "nbconvert_exporter": "python",
   "pygments_lexer": "ipython2",
   "version": "2.7.9"
  }
 },
 "nbformat": 4,
 "nbformat_minor": 0
}
